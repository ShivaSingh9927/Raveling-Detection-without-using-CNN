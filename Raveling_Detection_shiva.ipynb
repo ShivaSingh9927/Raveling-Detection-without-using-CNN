{
 "cells": [
  {
   "cell_type": "markdown",
   "id": "58260f3e",
   "metadata": {},
   "source": [
    "# Raveling Detection\n",
    "## Shiva Singh , kaggle id shivasingh9927\n",
    "\n",
    "### **Dataset Description**\n",
    "\n",
    "The dataset consists of 2 folders: 'train' and 'test'. The folder 'train' is a labelled dataset and consists of 2 sub-folders: 'Raveling' and 'Non_raveling'. The sub-folder 'Raveling' consists of a total of 350 images containing ravening distress, while the 'Non_raveling' sub-folder contains 350 images with no raveling distress. All images are of the ‘.jpg’ format.\n",
    "\n",
    "The ‘test’ folder consists of the test dataset images. There are a total of 700 images in this folder (all ‘.jpg’ files). These images are unlabelled i.e., the labels are not provided, whether they contain ravening distress or not. The objective of this challenge is to predict the class of each of these test images. The class can be either ‘Raveling’ or ‘Non_raveling’. The filenames of these test images are given as 1.jpg, 2.jpg, 3.jpg, …, 300.jpg.\n",
    "A sample output submission file is also provided.\n",
    "\n",
    "Dataset link-- https://www.kaggle.com/competitions/raveling-detection-ce784a-2023/data\n",
    "\n",
    "#### **Main objective here is you cannot use conventional CNN approaches to get the desired output. Please use either ANN or Logistic to solve the problem.**\n"
   ]
  },
  {
   "cell_type": "code",
   "execution_count": 1,
   "id": "f65673cb",
   "metadata": {},
   "outputs": [],
   "source": [
    "import numpy as np\n",
    "import pandas as pd \n",
    "import matplotlib.pyplot as plt\n",
    "import seaborn as sns"
   ]
  },
  {
   "cell_type": "code",
   "execution_count": 2,
   "id": "de0e0e96",
   "metadata": {},
   "outputs": [],
   "source": [
    "#importing skimage library to read images"
   ]
  },
  {
   "cell_type": "code",
   "execution_count": 3,
   "id": "a1d05c66",
   "metadata": {},
   "outputs": [],
   "source": [
    "from skimage.io import imread, imshow"
   ]
  },
  {
   "cell_type": "code",
   "execution_count": 4,
   "id": "4f44a6bc",
   "metadata": {},
   "outputs": [],
   "source": [
    "pic=imread('test/8.jpg')"
   ]
  },
  {
   "cell_type": "code",
   "execution_count": 5,
   "id": "bbad5150",
   "metadata": {},
   "outputs": [
    {
     "data": {
      "text/plain": [
       "<matplotlib.image.AxesImage at 0x22e98f33f70>"
      ]
     },
     "execution_count": 5,
     "metadata": {},
     "output_type": "execute_result"
    },
    {
     "data": {
      "image/png": "[encoded data removed]",
      "text/plain": [
       "<Figure size 640x480 with 1 Axes>"
      ]
     },
     "metadata": {},
     "output_type": "display_data"
    }
   ],
   "source": [
    "imshow(pic)"
   ]
  },
  {
   "cell_type": "code",
   "execution_count": 6,
   "id": "a417e5ba",
   "metadata": {},
   "outputs": [],
   "source": [
    "# Creating list of the names of images and then converting it to array  "
   ]
  },
  {
   "cell_type": "code",
   "execution_count": 7,
   "id": "dffb3903",
   "metadata": {},
   "outputs": [],
   "source": [
    "import os"
   ]
  },
  {
   "cell_type": "code",
   "execution_count": 8,
   "id": "fb50cf0e",
   "metadata": {},
   "outputs": [],
   "source": [
    "data_1=os.listdir('train/Non_raveling')"
   ]
  },
  {
   "cell_type": "code",
   "execution_count": 9,
   "id": "c2589237",
   "metadata": {},
   "outputs": [],
   "source": [
    "data_2=os.listdir('train/raveling')"
   ]
  },
  {
   "cell_type": "code",
   "execution_count": 10,
   "id": "1f40d786",
   "metadata": {},
   "outputs": [],
   "source": [
    "data_1_array=np.array(data_1)"
   ]
  },
  {
   "cell_type": "code",
   "execution_count": 11,
   "id": "c3bd4f58",
   "metadata": {},
   "outputs": [],
   "source": [
    "data_2_array=np.array(data_2)"
   ]
  },
  {
   "cell_type": "code",
   "execution_count": 12,
   "id": "b47cc7c3",
   "metadata": {},
   "outputs": [],
   "source": [
    "# Creating list of the names of images from test file and then converting it to array  "
   ]
  },
  {
   "cell_type": "code",
   "execution_count": 13,
   "id": "7f617235",
   "metadata": {},
   "outputs": [],
   "source": [
    "test_data=os.listdir('test')"
   ]
  },
  {
   "cell_type": "code",
   "execution_count": 14,
   "id": "414f671b",
   "metadata": {},
   "outputs": [],
   "source": [
    "test_data=np.array(test_data)"
   ]
  },
  {
   "cell_type": "code",
   "execution_count": 15,
   "id": "6ba7d709",
   "metadata": {},
   "outputs": [],
   "source": [
    "# Concatenating Non_raveling and raveling array\n",
    "data=np.concatenate([data_1,data_2])"
   ]
  },
  {
   "cell_type": "code",
   "execution_count": 16,
   "id": "c2b42ab8",
   "metadata": {},
   "outputs": [
    {
     "data": {
      "text/plain": [
       "numpy.ndarray"
      ]
     },
     "execution_count": 16,
     "metadata": {},
     "output_type": "execute_result"
    }
   ],
   "source": [
    "type(data)"
   ]
  },
  {
   "cell_type": "code",
   "execution_count": 17,
   "id": "ea6df41c",
   "metadata": {},
   "outputs": [],
   "source": [
    "# Storing the images in the list \n",
    "image_data=[]\n",
    "test_image_data=[]\n",
    "for i in data_1_array:\n",
    "    image=imread('train/Non_raveling/'+i)\n",
    "    image_data.append(image)\n",
    "for j in data_2_array:\n",
    "    image1=imread('train/raveling/'+j)\n",
    "    image_data.append(image1)\n",
    "# Storing the test images in the list \n",
    "for k in test_data:\n",
    "    image2=imread('test/'+k)\n",
    "    test_image_data.append(image2)"
   ]
  },
  {
   "cell_type": "code",
   "execution_count": 18,
   "id": "faf7aeb6",
   "metadata": {},
   "outputs": [
    {
     "data": {
      "text/plain": [
       "<matplotlib.image.AxesImage at 0x22e94c1c7f0>"
      ]
     },
     "execution_count": 18,
     "metadata": {},
     "output_type": "execute_result"
    },
    {
     "data": {
      "image/png": "[encoded data removed]",
      "text/plain": [
       "<Figure size 640x480 with 1 Axes>"
      ]
     },
     "metadata": {},
     "output_type": "display_data"
    }
   ],
   "source": [
    "imshow(image_data[1])"
   ]
  },
  {
   "cell_type": "code",
   "execution_count": 19,
   "id": "232b0e6e",
   "metadata": {},
   "outputs": [],
   "source": [
    "#converting list to array\n",
    "image_data=np.array(image_data)"
   ]
  },
  {
   "cell_type": "code",
   "execution_count": 20,
   "id": "a2ba0630",
   "metadata": {},
   "outputs": [
    {
     "data": {
      "text/plain": [
       "(700, 100, 100, 3)"
      ]
     },
     "execution_count": 20,
     "metadata": {},
     "output_type": "execute_result"
    }
   ],
   "source": [
    "image_data.shape"
   ]
  },
  {
   "cell_type": "code",
   "execution_count": 21,
   "id": "6ee83bef",
   "metadata": {},
   "outputs": [
    {
     "data": {
      "text/plain": [
       "array([[[[126, 136, 138],\n",
       "         [128, 136, 139],\n",
       "         [132, 137, 140],\n",
       "         ...,\n",
       "         [112, 112, 114],\n",
       "         [112, 112, 114],\n",
       "         [111, 111, 113]],\n",
       "\n",
       "        [[132, 140, 143],\n",
       "         [136, 141, 145],\n",
       "         [140, 145, 148],\n",
       "         ...,\n",
       "         [111, 111, 113],\n",
       "         [110, 110, 112],\n",
       "         [107, 107, 109]],\n",
       "\n",
       "        [[141, 146, 149],\n",
       "         [145, 149, 152],\n",
       "         [151, 155, 158],\n",
       "         ...,\n",
       "         [111, 109, 112],\n",
       "         [108, 106, 109],\n",
       "         [105, 103, 106]],\n",
       "\n",
       "        ...,\n",
       "\n",
       "        [[133, 137, 140],\n",
       "         [134, 138, 141],\n",
       "         [133, 137, 140],\n",
       "         ...,\n",
       "         [144, 144, 144],\n",
       "         [148, 148, 146],\n",
       "         [154, 154, 152]],\n",
       "\n",
       "        [[134, 138, 141],\n",
       "         [133, 137, 140],\n",
       "         [132, 136, 139],\n",
       "         ...,\n",
       "         [135, 135, 135],\n",
       "         [138, 138, 138],\n",
       "         [143, 143, 143]],\n",
       "\n",
       "        [[132, 136, 139],\n",
       "         [132, 136, 139],\n",
       "         [131, 135, 138],\n",
       "         ...,\n",
       "         [125, 125, 127],\n",
       "         [127, 127, 129],\n",
       "         [131, 131, 131]]],\n",
       "\n",
       "\n",
       "       [[[131, 127, 128],\n",
       "         [140, 136, 137],\n",
       "         [143, 139, 140],\n",
       "         ...,\n",
       "         [156, 162, 160],\n",
       "         [184, 190, 188],\n",
       "         [193, 199, 197]],\n",
       "\n",
       "        [[143, 139, 140],\n",
       "         [144, 140, 141],\n",
       "         [141, 139, 140],\n",
       "         ...,\n",
       "         [124, 135, 131],\n",
       "         [152, 163, 159],\n",
       "         [166, 177, 173]],\n",
       "\n",
       "        [[145, 141, 142],\n",
       "         [140, 138, 139],\n",
       "         [135, 133, 134],\n",
       "         ...,\n",
       "         [ 96, 107, 103],\n",
       "         [109, 120, 116],\n",
       "         [118, 129, 125]],\n",
       "\n",
       "        ...,\n",
       "\n",
       "        [[124, 128, 127],\n",
       "         [126, 130, 129],\n",
       "         [128, 130, 129],\n",
       "         ...,\n",
       "         [118, 122, 123],\n",
       "         [116, 120, 121],\n",
       "         [110, 114, 115]],\n",
       "\n",
       "        [[139, 143, 142],\n",
       "         [139, 141, 140],\n",
       "         [131, 133, 132],\n",
       "         ...,\n",
       "         [114, 118, 119],\n",
       "         [113, 117, 118],\n",
       "         [109, 113, 114]],\n",
       "\n",
       "        [[149, 153, 152],\n",
       "         [145, 147, 146],\n",
       "         [130, 132, 131],\n",
       "         ...,\n",
       "         [110, 114, 115],\n",
       "         [109, 113, 114],\n",
       "         [105, 109, 110]]],\n",
       "\n",
       "\n",
       "       [[[156, 155, 153],\n",
       "         [157, 156, 154],\n",
       "         [159, 158, 156],\n",
       "         ...,\n",
       "         [148, 150, 147],\n",
       "         [150, 150, 148],\n",
       "         [132, 132, 130]],\n",
       "\n",
       "        [[154, 154, 152],\n",
       "         [152, 152, 150],\n",
       "         [152, 152, 150],\n",
       "         ...,\n",
       "         [138, 140, 135],\n",
       "         [146, 147, 141],\n",
       "         [143, 144, 138]],\n",
       "\n",
       "        [[152, 152, 150],\n",
       "         [150, 150, 148],\n",
       "         [148, 148, 146],\n",
       "         ...,\n",
       "         [116, 119, 110],\n",
       "         [130, 131, 123],\n",
       "         [143, 144, 136]],\n",
       "\n",
       "        ...,\n",
       "\n",
       "        [[125, 124, 122],\n",
       "         [128, 127, 125],\n",
       "         [127, 126, 124],\n",
       "         ...,\n",
       "         [130, 131, 135],\n",
       "         [149, 150, 154],\n",
       "         [143, 144, 148]],\n",
       "\n",
       "        [[117, 116, 111],\n",
       "         [126, 125, 120],\n",
       "         [129, 128, 123],\n",
       "         ...,\n",
       "         [131, 132, 137],\n",
       "         [153, 154, 159],\n",
       "         [145, 146, 151]],\n",
       "\n",
       "        [[119, 119, 111],\n",
       "         [134, 134, 126],\n",
       "         [142, 142, 134],\n",
       "         ...,\n",
       "         [115, 116, 121],\n",
       "         [132, 133, 138],\n",
       "         [130, 131, 136]]],\n",
       "\n",
       "\n",
       "       ...,\n",
       "\n",
       "\n",
       "       [[[ 82,  81,  79],\n",
       "         [ 91,  90,  88],\n",
       "         [ 93,  93,  91],\n",
       "         ...,\n",
       "         [ 84,  84,  84],\n",
       "         [ 80,  80,  80],\n",
       "         [ 84,  84,  84]],\n",
       "\n",
       "        [[ 84,  83,  81],\n",
       "         [ 89,  88,  86],\n",
       "         [ 96,  96,  94],\n",
       "         ...,\n",
       "         [ 53,  54,  56],\n",
       "         [ 57,  58,  60],\n",
       "         [ 70,  71,  73]],\n",
       "\n",
       "        [[ 86,  82,  81],\n",
       "         [107, 106, 104],\n",
       "         [147, 147, 145],\n",
       "         ...,\n",
       "         [ 67,  68,  70],\n",
       "         [ 75,  76,  78],\n",
       "         [ 94,  95,  97]],\n",
       "\n",
       "        ...,\n",
       "\n",
       "        [[155, 147, 134],\n",
       "         [142, 130, 104],\n",
       "         [164, 146, 106],\n",
       "         ...,\n",
       "         [125, 134, 131],\n",
       "         [131, 140, 137],\n",
       "         [140, 149, 146]],\n",
       "\n",
       "        [[156, 143, 127],\n",
       "         [144, 127,  97],\n",
       "         [171, 147, 101],\n",
       "         ...,\n",
       "         [112, 121, 118],\n",
       "         [119, 128, 125],\n",
       "         [129, 135, 133]],\n",
       "\n",
       "        [[141, 123, 111],\n",
       "         [125, 104,  77],\n",
       "         [151, 123,  76],\n",
       "         ...,\n",
       "         [ 82,  91,  88],\n",
       "         [ 90,  99,  96],\n",
       "         [100, 106, 104]]],\n",
       "\n",
       "\n",
       "       [[[129, 130, 132],\n",
       "         [136, 137, 139],\n",
       "         [145, 145, 145],\n",
       "         ...,\n",
       "         [ 87,  97, 107],\n",
       "         [ 86,  96, 106],\n",
       "         [ 88,  98, 107]],\n",
       "\n",
       "        [[129, 130, 132],\n",
       "         [146, 148, 147],\n",
       "         [168, 168, 168],\n",
       "         ...,\n",
       "         [ 82,  91, 100],\n",
       "         [ 77,  86,  95],\n",
       "         [ 82,  91,  98]],\n",
       "\n",
       "        [[132, 134, 133],\n",
       "         [149, 149, 149],\n",
       "         [171, 171, 169],\n",
       "         ...,\n",
       "         [ 73,  80,  86],\n",
       "         [ 73,  80,  86],\n",
       "         [ 84,  91,  97]],\n",
       "\n",
       "        ...,\n",
       "\n",
       "        [[152, 143, 136],\n",
       "         [144, 137, 131],\n",
       "         [132, 127, 123],\n",
       "         ...,\n",
       "         [149, 145, 136],\n",
       "         [152, 148, 139],\n",
       "         [161, 157, 148]],\n",
       "\n",
       "        [[147, 136, 130],\n",
       "         [119, 110, 105],\n",
       "         [100,  92,  89],\n",
       "         ...,\n",
       "         [154, 151, 144],\n",
       "         [150, 147, 140],\n",
       "         [151, 148, 141]],\n",
       "\n",
       "        [[142, 129, 123],\n",
       "         [108,  97,  93],\n",
       "         [ 87,  77,  75],\n",
       "         ...,\n",
       "         [157, 156, 151],\n",
       "         [154, 153, 148],\n",
       "         [141, 140, 135]]],\n",
       "\n",
       "\n",
       "       [[[150, 145, 149],\n",
       "         [145, 140, 144],\n",
       "         [134, 129, 133],\n",
       "         ...,\n",
       "         [145, 150, 154],\n",
       "         [130, 135, 139],\n",
       "         [115, 120, 124]],\n",
       "\n",
       "        [[150, 148, 151],\n",
       "         [144, 142, 145],\n",
       "         [134, 132, 135],\n",
       "         ...,\n",
       "         [170, 174, 175],\n",
       "         [148, 152, 153],\n",
       "         [128, 132, 133]],\n",
       "\n",
       "        [[137, 138, 142],\n",
       "         [128, 129, 133],\n",
       "         [118, 119, 123],\n",
       "         ...,\n",
       "         [168, 169, 164],\n",
       "         [146, 147, 142],\n",
       "         [130, 131, 126]],\n",
       "\n",
       "        ...,\n",
       "\n",
       "        [[194, 188, 174],\n",
       "         [201, 195, 183],\n",
       "         [211, 204, 194],\n",
       "         ...,\n",
       "         [ 77,  82,  88],\n",
       "         [ 76,  81,  87],\n",
       "         [ 74,  79,  85]],\n",
       "\n",
       "        [[194, 188, 176],\n",
       "         [196, 190, 178],\n",
       "         [200, 193, 183],\n",
       "         ...,\n",
       "         [ 75,  80,  86],\n",
       "         [ 76,  81,  87],\n",
       "         [ 75,  80,  86]],\n",
       "\n",
       "        [[193, 187, 175],\n",
       "         [189, 183, 171],\n",
       "         [189, 182, 172],\n",
       "         ...,\n",
       "         [ 74,  79,  83],\n",
       "         [ 75,  80,  84],\n",
       "         [ 76,  81,  85]]]], dtype=uint8)"
      ]
     },
     "execution_count": 21,
     "metadata": {},
     "output_type": "execute_result"
    }
   ],
   "source": [
    "image_data"
   ]
  },
  {
   "cell_type": "markdown",
   "id": "397f5a89",
   "metadata": {},
   "source": [
    "Creating features - mean, standard deviation, skew, kurtosis"
   ]
  },
  {
   "cell_type": "code",
   "execution_count": 22,
   "id": "1994c96b",
   "metadata": {},
   "outputs": [],
   "source": [
    "# forming list of mean pixel values\n",
    "mean_pix_val=[]\n",
    "for i in image_data:\n",
    "    m=np.mean(i, axis=(0,1,2))\n",
    "    mean_pix_val.append(m)\n",
    "# forming list of mean pixel values for test dataset\n",
    "test_mean_pix_val=[]\n",
    "for i in test_image_data:\n",
    "    mt=np.mean(i, axis=(0,1,2))\n",
    "    test_mean_pix_val.append(mt)"
   ]
  },
  {
   "cell_type": "code",
   "execution_count": 23,
   "id": "77b70d09",
   "metadata": {},
   "outputs": [
    {
     "data": {
      "text/plain": [
       "(700,)"
      ]
     },
     "execution_count": 23,
     "metadata": {},
     "output_type": "execute_result"
    }
   ],
   "source": [
    "mean_pix_val=np.array(mean_pix_val)\n",
    "test_mean_pix_val=np.array(test_mean_pix_val)\n",
    "mean_pix_val.shape"
   ]
  },
  {
   "cell_type": "code",
   "execution_count": 24,
   "id": "9d812cd2",
   "metadata": {},
   "outputs": [],
   "source": [
    "# forming list of std. dev of pixel values"
   ]
  },
  {
   "cell_type": "code",
   "execution_count": 25,
   "id": "e8474bf4",
   "metadata": {},
   "outputs": [],
   "source": [
    "std_pix_val=[]\n",
    "for i in image_data:\n",
    "    s=np.std(i, axis=(0,1,2))\n",
    "    std_pix_val.append(s)\n",
    "std_pix_val=np.array(std_pix_val)\n",
    "# forming list of std. dev of pixel values for test dataset\n",
    "test_std_pix_val=[]\n",
    "for i in test_image_data:\n",
    "    st=np.std(i, axis=(0,1,2))\n",
    "    test_std_pix_val.append(st)\n",
    "test_std_pix_val=np.array(test_std_pix_val)"
   ]
  },
  {
   "cell_type": "code",
   "execution_count": 26,
   "id": "c3f4e3b2",
   "metadata": {},
   "outputs": [],
   "source": [
    "# forming list of skewness of pixel values\n",
    "from scipy.stats import skew,kurtosis,entropy\n",
    "skew_pix_val=[]\n",
    "for i in image_data:\n",
    "    skw=skew(i, axis=(0,1,2))\n",
    "    skew_pix_val.append(skw)\n",
    "skew_pix_val=np.array(skew_pix_val)"
   ]
  },
  {
   "cell_type": "code",
   "execution_count": 27,
   "id": "649f2d57",
   "metadata": {},
   "outputs": [],
   "source": [
    "# forming list of skewness of pixel values for test dataset\n",
    "test_skew_pix_val=[]\n",
    "for i in test_image_data:\n",
    "    skwt=skew(i, axis=(0,1,2))\n",
    "    test_skew_pix_val.append(skwt)\n",
    "test_skew_pix_val=np.array(test_skew_pix_val)"
   ]
  },
  {
   "cell_type": "code",
   "execution_count": 28,
   "id": "105a932d",
   "metadata": {},
   "outputs": [],
   "source": [
    "# forming list of kurtosis of pixel values\n",
    "kurtosis_pix_val=[]\n",
    "for i in image_data:\n",
    "    kurt=kurtosis(i, axis=(0,1,2))\n",
    "    kurtosis_pix_val.append(kurt)\n",
    "kurtosis_pix_val=np.array(kurtosis_pix_val)"
   ]
  },
  {
   "cell_type": "code",
   "execution_count": 29,
   "id": "8454fa0f",
   "metadata": {},
   "outputs": [],
   "source": [
    "# forming list of kurtosis of pixel values for test dataset\n",
    "test_kurtosis_pix_val=[]\n",
    "for i in test_image_data:\n",
    "    kurt=kurtosis(i, axis=(0,1,2))\n",
    "    test_kurtosis_pix_val.append(kurt)\n",
    "test_kurtosis_pix_val=np.array(test_kurtosis_pix_val)"
   ]
  },
  {
   "cell_type": "code",
   "execution_count": 30,
   "id": "7d28f351",
   "metadata": {},
   "outputs": [
    {
     "data": {
      "text/plain": [
       "(700,)"
      ]
     },
     "execution_count": 30,
     "metadata": {},
     "output_type": "execute_result"
    }
   ],
   "source": [
    "# forming list of entropy of pixel values\n",
    "entropy_pix_val=[]\n",
    "for i in image_data:\n",
    "    en=entropy(i, axis=(0,1,2))\n",
    "    entropy_pix_val.append(en)\n",
    "entropy_pix_val=np.array(entropy_pix_val)\n",
    "entropy_pix_val.shape"
   ]
  },
  {
   "cell_type": "code",
   "execution_count": 31,
   "id": "af532c38",
   "metadata": {},
   "outputs": [
    {
     "data": {
      "text/plain": [
       "(300,)"
      ]
     },
     "execution_count": 31,
     "metadata": {},
     "output_type": "execute_result"
    }
   ],
   "source": [
    "# forming list of entropy of pixel values for test dataset\n",
    "test_entropy_pix_val=[]\n",
    "for i in test_image_data:\n",
    "    en=entropy(i, axis=(0,1,2))\n",
    "    test_entropy_pix_val.append(en)\n",
    "test_entropy_pix_val=np.array(test_entropy_pix_val)\n",
    "test_entropy_pix_val.shape"
   ]
  },
  {
   "cell_type": "code",
   "execution_count": 32,
   "id": "49ee430e",
   "metadata": {},
   "outputs": [
    {
     "data": {
      "text/html": [
       "<div>\n",
       "<style scoped>\n",
       "    .dataframe tbody tr th:only-of-type {\n",
       "        vertical-align: middle;\n",
       "    }\n",
       "\n",
       "    .dataframe tbody tr th {\n",
       "        vertical-align: top;\n",
       "    }\n",
       "\n",
       "    .dataframe thead th {\n",
       "        text-align: right;\n",
       "    }\n",
       "</style>\n",
       "<table border=\"1\" class=\"dataframe\">\n",
       "  <thead>\n",
       "    <tr style=\"text-align: right;\">\n",
       "      <th></th>\n",
       "      <th>0</th>\n",
       "      <th>1</th>\n",
       "      <th>2</th>\n",
       "      <th>3</th>\n",
       "      <th>4</th>\n",
       "    </tr>\n",
       "  </thead>\n",
       "  <tbody>\n",
       "    <tr>\n",
       "      <th>0</th>\n",
       "      <td>132.075167</td>\n",
       "      <td>20.691628</td>\n",
       "      <td>-0.599329</td>\n",
       "      <td>-0.096310</td>\n",
       "      <td>10.296128</td>\n",
       "    </tr>\n",
       "    <tr>\n",
       "      <th>1</th>\n",
       "      <td>124.825967</td>\n",
       "      <td>18.473545</td>\n",
       "      <td>0.769152</td>\n",
       "      <td>3.496092</td>\n",
       "      <td>10.298198</td>\n",
       "    </tr>\n",
       "    <tr>\n",
       "      <th>2</th>\n",
       "      <td>125.316367</td>\n",
       "      <td>24.125749</td>\n",
       "      <td>0.724057</td>\n",
       "      <td>0.224423</td>\n",
       "      <td>10.290959</td>\n",
       "    </tr>\n",
       "    <tr>\n",
       "      <th>3</th>\n",
       "      <td>110.466067</td>\n",
       "      <td>27.370291</td>\n",
       "      <td>-0.162943</td>\n",
       "      <td>1.021406</td>\n",
       "      <td>10.276191</td>\n",
       "    </tr>\n",
       "    <tr>\n",
       "      <th>4</th>\n",
       "      <td>102.588600</td>\n",
       "      <td>22.029635</td>\n",
       "      <td>1.055838</td>\n",
       "      <td>3.189963</td>\n",
       "      <td>10.286821</td>\n",
       "    </tr>\n",
       "    <tr>\n",
       "      <th>...</th>\n",
       "      <td>...</td>\n",
       "      <td>...</td>\n",
       "      <td>...</td>\n",
       "      <td>...</td>\n",
       "      <td>...</td>\n",
       "    </tr>\n",
       "    <tr>\n",
       "      <th>695</th>\n",
       "      <td>105.635100</td>\n",
       "      <td>35.913880</td>\n",
       "      <td>0.954520</td>\n",
       "      <td>0.632459</td>\n",
       "      <td>10.254260</td>\n",
       "    </tr>\n",
       "    <tr>\n",
       "      <th>696</th>\n",
       "      <td>150.960333</td>\n",
       "      <td>40.150798</td>\n",
       "      <td>-0.770831</td>\n",
       "      <td>0.082822</td>\n",
       "      <td>10.269263</td>\n",
       "    </tr>\n",
       "    <tr>\n",
       "      <th>697</th>\n",
       "      <td>136.866967</td>\n",
       "      <td>41.484044</td>\n",
       "      <td>-0.413756</td>\n",
       "      <td>-0.523858</td>\n",
       "      <td>10.258570</td>\n",
       "    </tr>\n",
       "    <tr>\n",
       "      <th>698</th>\n",
       "      <td>124.770100</td>\n",
       "      <td>28.872863</td>\n",
       "      <td>0.296454</td>\n",
       "      <td>-0.350241</td>\n",
       "      <td>10.282158</td>\n",
       "    </tr>\n",
       "    <tr>\n",
       "      <th>699</th>\n",
       "      <td>114.931933</td>\n",
       "      <td>41.041503</td>\n",
       "      <td>0.278267</td>\n",
       "      <td>-0.311113</td>\n",
       "      <td>10.243269</td>\n",
       "    </tr>\n",
       "  </tbody>\n",
       "</table>\n",
       "<p>700 rows × 5 columns</p>\n",
       "</div>"
      ],
      "text/plain": [
       "              0          1         2         3          4\n",
       "0    132.075167  20.691628 -0.599329 -0.096310  10.296128\n",
       "1    124.825967  18.473545  0.769152  3.496092  10.298198\n",
       "2    125.316367  24.125749  0.724057  0.224423  10.290959\n",
       "3    110.466067  27.370291 -0.162943  1.021406  10.276191\n",
       "4    102.588600  22.029635  1.055838  3.189963  10.286821\n",
       "..          ...        ...       ...       ...        ...\n",
       "695  105.635100  35.913880  0.954520  0.632459  10.254260\n",
       "696  150.960333  40.150798 -0.770831  0.082822  10.269263\n",
       "697  136.866967  41.484044 -0.413756 -0.523858  10.258570\n",
       "698  124.770100  28.872863  0.296454 -0.350241  10.282158\n",
       "699  114.931933  41.041503  0.278267 -0.311113  10.243269\n",
       "\n",
       "[700 rows x 5 columns]"
      ]
     },
     "execution_count": 32,
     "metadata": {},
     "output_type": "execute_result"
    }
   ],
   "source": [
    "# Creating a dataframe combining all the features\n",
    "new_df=pd.DataFrame(data=[mean_pix_val,std_pix_val,skew_pix_val,kurtosis_pix_val,entropy_pix_val])\n",
    "new_df=new_df.T\n",
    "new_df"
   ]
  },
  {
   "cell_type": "code",
   "execution_count": 33,
   "id": "4dc4437a",
   "metadata": {},
   "outputs": [
    {
     "data": {
      "text/html": [
       "<div>\n",
       "<style scoped>\n",
       "    .dataframe tbody tr th:only-of-type {\n",
       "        vertical-align: middle;\n",
       "    }\n",
       "\n",
       "    .dataframe tbody tr th {\n",
       "        vertical-align: top;\n",
       "    }\n",
       "\n",
       "    .dataframe thead th {\n",
       "        text-align: right;\n",
       "    }\n",
       "</style>\n",
       "<table border=\"1\" class=\"dataframe\">\n",
       "  <thead>\n",
       "    <tr style=\"text-align: right;\">\n",
       "      <th></th>\n",
       "      <th>0</th>\n",
       "      <th>1</th>\n",
       "      <th>2</th>\n",
       "      <th>3</th>\n",
       "      <th>4</th>\n",
       "    </tr>\n",
       "  </thead>\n",
       "  <tbody>\n",
       "    <tr>\n",
       "      <th>0</th>\n",
       "      <td>117.774233</td>\n",
       "      <td>29.084056</td>\n",
       "      <td>0.846049</td>\n",
       "      <td>0.584165</td>\n",
       "      <td>10.279674</td>\n",
       "    </tr>\n",
       "    <tr>\n",
       "      <th>1</th>\n",
       "      <td>123.148967</td>\n",
       "      <td>38.228421</td>\n",
       "      <td>-0.355286</td>\n",
       "      <td>0.217718</td>\n",
       "      <td>10.255197</td>\n",
       "    </tr>\n",
       "    <tr>\n",
       "      <th>2</th>\n",
       "      <td>165.133533</td>\n",
       "      <td>20.620159</td>\n",
       "      <td>-1.237976</td>\n",
       "      <td>0.750324</td>\n",
       "      <td>10.300663</td>\n",
       "    </tr>\n",
       "    <tr>\n",
       "      <th>3</th>\n",
       "      <td>127.832533</td>\n",
       "      <td>31.910661</td>\n",
       "      <td>0.130999</td>\n",
       "      <td>-0.583111</td>\n",
       "      <td>10.277302</td>\n",
       "    </tr>\n",
       "    <tr>\n",
       "      <th>4</th>\n",
       "      <td>128.616167</td>\n",
       "      <td>43.523072</td>\n",
       "      <td>0.282472</td>\n",
       "      <td>-0.407650</td>\n",
       "      <td>10.250348</td>\n",
       "    </tr>\n",
       "    <tr>\n",
       "      <th>...</th>\n",
       "      <td>...</td>\n",
       "      <td>...</td>\n",
       "      <td>...</td>\n",
       "      <td>...</td>\n",
       "      <td>...</td>\n",
       "    </tr>\n",
       "    <tr>\n",
       "      <th>295</th>\n",
       "      <td>133.119133</td>\n",
       "      <td>19.252292</td>\n",
       "      <td>0.454380</td>\n",
       "      <td>0.774956</td>\n",
       "      <td>10.298595</td>\n",
       "    </tr>\n",
       "    <tr>\n",
       "      <th>296</th>\n",
       "      <td>125.671433</td>\n",
       "      <td>28.676888</td>\n",
       "      <td>-0.541251</td>\n",
       "      <td>0.295358</td>\n",
       "      <td>10.280825</td>\n",
       "    </tr>\n",
       "    <tr>\n",
       "      <th>297</th>\n",
       "      <td>121.817600</td>\n",
       "      <td>28.018798</td>\n",
       "      <td>0.241347</td>\n",
       "      <td>-0.570849</td>\n",
       "      <td>10.282436</td>\n",
       "    </tr>\n",
       "    <tr>\n",
       "      <th>298</th>\n",
       "      <td>152.408300</td>\n",
       "      <td>31.887970</td>\n",
       "      <td>-0.523806</td>\n",
       "      <td>-0.127514</td>\n",
       "      <td>10.285663</td>\n",
       "    </tr>\n",
       "    <tr>\n",
       "      <th>299</th>\n",
       "      <td>119.502267</td>\n",
       "      <td>27.205867</td>\n",
       "      <td>0.499718</td>\n",
       "      <td>0.403115</td>\n",
       "      <td>10.283298</td>\n",
       "    </tr>\n",
       "  </tbody>\n",
       "</table>\n",
       "<p>300 rows × 5 columns</p>\n",
       "</div>"
      ],
      "text/plain": [
       "              0          1         2         3          4\n",
       "0    117.774233  29.084056  0.846049  0.584165  10.279674\n",
       "1    123.148967  38.228421 -0.355286  0.217718  10.255197\n",
       "2    165.133533  20.620159 -1.237976  0.750324  10.300663\n",
       "3    127.832533  31.910661  0.130999 -0.583111  10.277302\n",
       "4    128.616167  43.523072  0.282472 -0.407650  10.250348\n",
       "..          ...        ...       ...       ...        ...\n",
       "295  133.119133  19.252292  0.454380  0.774956  10.298595\n",
       "296  125.671433  28.676888 -0.541251  0.295358  10.280825\n",
       "297  121.817600  28.018798  0.241347 -0.570849  10.282436\n",
       "298  152.408300  31.887970 -0.523806 -0.127514  10.285663\n",
       "299  119.502267  27.205867  0.499718  0.403115  10.283298\n",
       "\n",
       "[300 rows x 5 columns]"
      ]
     },
     "execution_count": 33,
     "metadata": {},
     "output_type": "execute_result"
    }
   ],
   "source": [
    "# Creating a dataframe combining all the features for test dataset\n",
    "new_test_df=pd.DataFrame(data=[test_mean_pix_val,test_std_pix_val,test_skew_pix_val,test_kurtosis_pix_val,test_entropy_pix_val])\n",
    "new_test_df=new_test_df.T\n",
    "new_test_df"
   ]
  },
  {
   "cell_type": "code",
   "execution_count": 34,
   "id": "271d05a1",
   "metadata": {},
   "outputs": [
    {
     "data": {
      "text/html": [
       "<div>\n",
       "<style scoped>\n",
       "    .dataframe tbody tr th:only-of-type {\n",
       "        vertical-align: middle;\n",
       "    }\n",
       "\n",
       "    .dataframe tbody tr th {\n",
       "        vertical-align: top;\n",
       "    }\n",
       "\n",
       "    .dataframe thead th {\n",
       "        text-align: right;\n",
       "    }\n",
       "</style>\n",
       "<table border=\"1\" class=\"dataframe\">\n",
       "  <thead>\n",
       "    <tr style=\"text-align: right;\">\n",
       "      <th></th>\n",
       "      <th>mean</th>\n",
       "      <th>std</th>\n",
       "      <th>skew</th>\n",
       "      <th>kurtosis</th>\n",
       "      <th>entropy</th>\n",
       "    </tr>\n",
       "  </thead>\n",
       "  <tbody>\n",
       "    <tr>\n",
       "      <th>0</th>\n",
       "      <td>132.075167</td>\n",
       "      <td>20.691628</td>\n",
       "      <td>-0.599329</td>\n",
       "      <td>-0.096310</td>\n",
       "      <td>10.296128</td>\n",
       "    </tr>\n",
       "    <tr>\n",
       "      <th>1</th>\n",
       "      <td>124.825967</td>\n",
       "      <td>18.473545</td>\n",
       "      <td>0.769152</td>\n",
       "      <td>3.496092</td>\n",
       "      <td>10.298198</td>\n",
       "    </tr>\n",
       "    <tr>\n",
       "      <th>2</th>\n",
       "      <td>125.316367</td>\n",
       "      <td>24.125749</td>\n",
       "      <td>0.724057</td>\n",
       "      <td>0.224423</td>\n",
       "      <td>10.290959</td>\n",
       "    </tr>\n",
       "    <tr>\n",
       "      <th>3</th>\n",
       "      <td>110.466067</td>\n",
       "      <td>27.370291</td>\n",
       "      <td>-0.162943</td>\n",
       "      <td>1.021406</td>\n",
       "      <td>10.276191</td>\n",
       "    </tr>\n",
       "    <tr>\n",
       "      <th>4</th>\n",
       "      <td>102.588600</td>\n",
       "      <td>22.029635</td>\n",
       "      <td>1.055838</td>\n",
       "      <td>3.189963</td>\n",
       "      <td>10.286821</td>\n",
       "    </tr>\n",
       "    <tr>\n",
       "      <th>...</th>\n",
       "      <td>...</td>\n",
       "      <td>...</td>\n",
       "      <td>...</td>\n",
       "      <td>...</td>\n",
       "      <td>...</td>\n",
       "    </tr>\n",
       "    <tr>\n",
       "      <th>695</th>\n",
       "      <td>105.635100</td>\n",
       "      <td>35.913880</td>\n",
       "      <td>0.954520</td>\n",
       "      <td>0.632459</td>\n",
       "      <td>10.254260</td>\n",
       "    </tr>\n",
       "    <tr>\n",
       "      <th>696</th>\n",
       "      <td>150.960333</td>\n",
       "      <td>40.150798</td>\n",
       "      <td>-0.770831</td>\n",
       "      <td>0.082822</td>\n",
       "      <td>10.269263</td>\n",
       "    </tr>\n",
       "    <tr>\n",
       "      <th>697</th>\n",
       "      <td>136.866967</td>\n",
       "      <td>41.484044</td>\n",
       "      <td>-0.413756</td>\n",
       "      <td>-0.523858</td>\n",
       "      <td>10.258570</td>\n",
       "    </tr>\n",
       "    <tr>\n",
       "      <th>698</th>\n",
       "      <td>124.770100</td>\n",
       "      <td>28.872863</td>\n",
       "      <td>0.296454</td>\n",
       "      <td>-0.350241</td>\n",
       "      <td>10.282158</td>\n",
       "    </tr>\n",
       "    <tr>\n",
       "      <th>699</th>\n",
       "      <td>114.931933</td>\n",
       "      <td>41.041503</td>\n",
       "      <td>0.278267</td>\n",
       "      <td>-0.311113</td>\n",
       "      <td>10.243269</td>\n",
       "    </tr>\n",
       "  </tbody>\n",
       "</table>\n",
       "<p>700 rows × 5 columns</p>\n",
       "</div>"
      ],
      "text/plain": [
       "           mean        std      skew  kurtosis    entropy\n",
       "0    132.075167  20.691628 -0.599329 -0.096310  10.296128\n",
       "1    124.825967  18.473545  0.769152  3.496092  10.298198\n",
       "2    125.316367  24.125749  0.724057  0.224423  10.290959\n",
       "3    110.466067  27.370291 -0.162943  1.021406  10.276191\n",
       "4    102.588600  22.029635  1.055838  3.189963  10.286821\n",
       "..          ...        ...       ...       ...        ...\n",
       "695  105.635100  35.913880  0.954520  0.632459  10.254260\n",
       "696  150.960333  40.150798 -0.770831  0.082822  10.269263\n",
       "697  136.866967  41.484044 -0.413756 -0.523858  10.258570\n",
       "698  124.770100  28.872863  0.296454 -0.350241  10.282158\n",
       "699  114.931933  41.041503  0.278267 -0.311113  10.243269\n",
       "\n",
       "[700 rows x 5 columns]"
      ]
     },
     "execution_count": 34,
     "metadata": {},
     "output_type": "execute_result"
    }
   ],
   "source": [
    "new_df.columns=['mean','std','skew','kurtosis','entropy']\n",
    "new_df"
   ]
  },
  {
   "cell_type": "code",
   "execution_count": 35,
   "id": "16701fac",
   "metadata": {},
   "outputs": [
    {
     "data": {
      "text/html": [
       "<div>\n",
       "<style scoped>\n",
       "    .dataframe tbody tr th:only-of-type {\n",
       "        vertical-align: middle;\n",
       "    }\n",
       "\n",
       "    .dataframe tbody tr th {\n",
       "        vertical-align: top;\n",
       "    }\n",
       "\n",
       "    .dataframe thead th {\n",
       "        text-align: right;\n",
       "    }\n",
       "</style>\n",
       "<table border=\"1\" class=\"dataframe\">\n",
       "  <thead>\n",
       "    <tr style=\"text-align: right;\">\n",
       "      <th></th>\n",
       "      <th>mean</th>\n",
       "      <th>std</th>\n",
       "      <th>skew</th>\n",
       "      <th>kurtosis</th>\n",
       "      <th>entropy</th>\n",
       "    </tr>\n",
       "  </thead>\n",
       "  <tbody>\n",
       "    <tr>\n",
       "      <th>0</th>\n",
       "      <td>117.774233</td>\n",
       "      <td>29.084056</td>\n",
       "      <td>0.846049</td>\n",
       "      <td>0.584165</td>\n",
       "      <td>10.279674</td>\n",
       "    </tr>\n",
       "    <tr>\n",
       "      <th>1</th>\n",
       "      <td>123.148967</td>\n",
       "      <td>38.228421</td>\n",
       "      <td>-0.355286</td>\n",
       "      <td>0.217718</td>\n",
       "      <td>10.255197</td>\n",
       "    </tr>\n",
       "    <tr>\n",
       "      <th>2</th>\n",
       "      <td>165.133533</td>\n",
       "      <td>20.620159</td>\n",
       "      <td>-1.237976</td>\n",
       "      <td>0.750324</td>\n",
       "      <td>10.300663</td>\n",
       "    </tr>\n",
       "    <tr>\n",
       "      <th>3</th>\n",
       "      <td>127.832533</td>\n",
       "      <td>31.910661</td>\n",
       "      <td>0.130999</td>\n",
       "      <td>-0.583111</td>\n",
       "      <td>10.277302</td>\n",
       "    </tr>\n",
       "    <tr>\n",
       "      <th>4</th>\n",
       "      <td>128.616167</td>\n",
       "      <td>43.523072</td>\n",
       "      <td>0.282472</td>\n",
       "      <td>-0.407650</td>\n",
       "      <td>10.250348</td>\n",
       "    </tr>\n",
       "    <tr>\n",
       "      <th>...</th>\n",
       "      <td>...</td>\n",
       "      <td>...</td>\n",
       "      <td>...</td>\n",
       "      <td>...</td>\n",
       "      <td>...</td>\n",
       "    </tr>\n",
       "    <tr>\n",
       "      <th>295</th>\n",
       "      <td>133.119133</td>\n",
       "      <td>19.252292</td>\n",
       "      <td>0.454380</td>\n",
       "      <td>0.774956</td>\n",
       "      <td>10.298595</td>\n",
       "    </tr>\n",
       "    <tr>\n",
       "      <th>296</th>\n",
       "      <td>125.671433</td>\n",
       "      <td>28.676888</td>\n",
       "      <td>-0.541251</td>\n",
       "      <td>0.295358</td>\n",
       "      <td>10.280825</td>\n",
       "    </tr>\n",
       "    <tr>\n",
       "      <th>297</th>\n",
       "      <td>121.817600</td>\n",
       "      <td>28.018798</td>\n",
       "      <td>0.241347</td>\n",
       "      <td>-0.570849</td>\n",
       "      <td>10.282436</td>\n",
       "    </tr>\n",
       "    <tr>\n",
       "      <th>298</th>\n",
       "      <td>152.408300</td>\n",
       "      <td>31.887970</td>\n",
       "      <td>-0.523806</td>\n",
       "      <td>-0.127514</td>\n",
       "      <td>10.285663</td>\n",
       "    </tr>\n",
       "    <tr>\n",
       "      <th>299</th>\n",
       "      <td>119.502267</td>\n",
       "      <td>27.205867</td>\n",
       "      <td>0.499718</td>\n",
       "      <td>0.403115</td>\n",
       "      <td>10.283298</td>\n",
       "    </tr>\n",
       "  </tbody>\n",
       "</table>\n",
       "<p>300 rows × 5 columns</p>\n",
       "</div>"
      ],
      "text/plain": [
       "           mean        std      skew  kurtosis    entropy\n",
       "0    117.774233  29.084056  0.846049  0.584165  10.279674\n",
       "1    123.148967  38.228421 -0.355286  0.217718  10.255197\n",
       "2    165.133533  20.620159 -1.237976  0.750324  10.300663\n",
       "3    127.832533  31.910661  0.130999 -0.583111  10.277302\n",
       "4    128.616167  43.523072  0.282472 -0.407650  10.250348\n",
       "..          ...        ...       ...       ...        ...\n",
       "295  133.119133  19.252292  0.454380  0.774956  10.298595\n",
       "296  125.671433  28.676888 -0.541251  0.295358  10.280825\n",
       "297  121.817600  28.018798  0.241347 -0.570849  10.282436\n",
       "298  152.408300  31.887970 -0.523806 -0.127514  10.285663\n",
       "299  119.502267  27.205867  0.499718  0.403115  10.283298\n",
       "\n",
       "[300 rows x 5 columns]"
      ]
     },
     "execution_count": 35,
     "metadata": {},
     "output_type": "execute_result"
    }
   ],
   "source": [
    "# Finally naming the columns of the test dataframe\n",
    "new_test_df.columns=['mean','std','skew','kurtosis','entropy']\n",
    "new_test_df"
   ]
  },
  {
   "cell_type": "code",
   "execution_count": 36,
   "id": "372cb4fb",
   "metadata": {},
   "outputs": [],
   "source": [
    "# Adding a column for which 0 represent Non raveling and 1 represent raveling\n",
    "y1=np.zeros(350)\n",
    "y2=np.ones(350)\n",
    "y=np.concatenate([y1,y2])\n",
    "y=pd.DataFrame(y,columns=['y'])"
   ]
  },
  {
   "cell_type": "code",
   "execution_count": 37,
   "id": "75970047",
   "metadata": {},
   "outputs": [],
   "source": [
    "new_df=pd.concat([new_df,y],axis=1)"
   ]
  },
  {
   "cell_type": "code",
   "execution_count": 38,
   "id": "8003bb48",
   "metadata": {},
   "outputs": [
    {
     "data": {
      "text/html": [
       "<div>\n",
       "<style scoped>\n",
       "    .dataframe tbody tr th:only-of-type {\n",
       "        vertical-align: middle;\n",
       "    }\n",
       "\n",
       "    .dataframe tbody tr th {\n",
       "        vertical-align: top;\n",
       "    }\n",
       "\n",
       "    .dataframe thead th {\n",
       "        text-align: right;\n",
       "    }\n",
       "</style>\n",
       "<table border=\"1\" class=\"dataframe\">\n",
       "  <thead>\n",
       "    <tr style=\"text-align: right;\">\n",
       "      <th></th>\n",
       "      <th>mean</th>\n",
       "      <th>std</th>\n",
       "      <th>skew</th>\n",
       "      <th>kurtosis</th>\n",
       "      <th>entropy</th>\n",
       "      <th>y</th>\n",
       "    </tr>\n",
       "  </thead>\n",
       "  <tbody>\n",
       "    <tr>\n",
       "      <th>0</th>\n",
       "      <td>132.075167</td>\n",
       "      <td>20.691628</td>\n",
       "      <td>-0.599329</td>\n",
       "      <td>-0.096310</td>\n",
       "      <td>10.296128</td>\n",
       "      <td>0.0</td>\n",
       "    </tr>\n",
       "    <tr>\n",
       "      <th>1</th>\n",
       "      <td>124.825967</td>\n",
       "      <td>18.473545</td>\n",
       "      <td>0.769152</td>\n",
       "      <td>3.496092</td>\n",
       "      <td>10.298198</td>\n",
       "      <td>0.0</td>\n",
       "    </tr>\n",
       "    <tr>\n",
       "      <th>2</th>\n",
       "      <td>125.316367</td>\n",
       "      <td>24.125749</td>\n",
       "      <td>0.724057</td>\n",
       "      <td>0.224423</td>\n",
       "      <td>10.290959</td>\n",
       "      <td>0.0</td>\n",
       "    </tr>\n",
       "    <tr>\n",
       "      <th>3</th>\n",
       "      <td>110.466067</td>\n",
       "      <td>27.370291</td>\n",
       "      <td>-0.162943</td>\n",
       "      <td>1.021406</td>\n",
       "      <td>10.276191</td>\n",
       "      <td>0.0</td>\n",
       "    </tr>\n",
       "    <tr>\n",
       "      <th>4</th>\n",
       "      <td>102.588600</td>\n",
       "      <td>22.029635</td>\n",
       "      <td>1.055838</td>\n",
       "      <td>3.189963</td>\n",
       "      <td>10.286821</td>\n",
       "      <td>0.0</td>\n",
       "    </tr>\n",
       "    <tr>\n",
       "      <th>...</th>\n",
       "      <td>...</td>\n",
       "      <td>...</td>\n",
       "      <td>...</td>\n",
       "      <td>...</td>\n",
       "      <td>...</td>\n",
       "      <td>...</td>\n",
       "    </tr>\n",
       "    <tr>\n",
       "      <th>695</th>\n",
       "      <td>105.635100</td>\n",
       "      <td>35.913880</td>\n",
       "      <td>0.954520</td>\n",
       "      <td>0.632459</td>\n",
       "      <td>10.254260</td>\n",
       "      <td>1.0</td>\n",
       "    </tr>\n",
       "    <tr>\n",
       "      <th>696</th>\n",
       "      <td>150.960333</td>\n",
       "      <td>40.150798</td>\n",
       "      <td>-0.770831</td>\n",
       "      <td>0.082822</td>\n",
       "      <td>10.269263</td>\n",
       "      <td>1.0</td>\n",
       "    </tr>\n",
       "    <tr>\n",
       "      <th>697</th>\n",
       "      <td>136.866967</td>\n",
       "      <td>41.484044</td>\n",
       "      <td>-0.413756</td>\n",
       "      <td>-0.523858</td>\n",
       "      <td>10.258570</td>\n",
       "      <td>1.0</td>\n",
       "    </tr>\n",
       "    <tr>\n",
       "      <th>698</th>\n",
       "      <td>124.770100</td>\n",
       "      <td>28.872863</td>\n",
       "      <td>0.296454</td>\n",
       "      <td>-0.350241</td>\n",
       "      <td>10.282158</td>\n",
       "      <td>1.0</td>\n",
       "    </tr>\n",
       "    <tr>\n",
       "      <th>699</th>\n",
       "      <td>114.931933</td>\n",
       "      <td>41.041503</td>\n",
       "      <td>0.278267</td>\n",
       "      <td>-0.311113</td>\n",
       "      <td>10.243269</td>\n",
       "      <td>1.0</td>\n",
       "    </tr>\n",
       "  </tbody>\n",
       "</table>\n",
       "<p>700 rows × 6 columns</p>\n",
       "</div>"
      ],
      "text/plain": [
       "           mean        std      skew  kurtosis    entropy    y\n",
       "0    132.075167  20.691628 -0.599329 -0.096310  10.296128  0.0\n",
       "1    124.825967  18.473545  0.769152  3.496092  10.298198  0.0\n",
       "2    125.316367  24.125749  0.724057  0.224423  10.290959  0.0\n",
       "3    110.466067  27.370291 -0.162943  1.021406  10.276191  0.0\n",
       "4    102.588600  22.029635  1.055838  3.189963  10.286821  0.0\n",
       "..          ...        ...       ...       ...        ...  ...\n",
       "695  105.635100  35.913880  0.954520  0.632459  10.254260  1.0\n",
       "696  150.960333  40.150798 -0.770831  0.082822  10.269263  1.0\n",
       "697  136.866967  41.484044 -0.413756 -0.523858  10.258570  1.0\n",
       "698  124.770100  28.872863  0.296454 -0.350241  10.282158  1.0\n",
       "699  114.931933  41.041503  0.278267 -0.311113  10.243269  1.0\n",
       "\n",
       "[700 rows x 6 columns]"
      ]
     },
     "execution_count": 38,
     "metadata": {},
     "output_type": "execute_result"
    }
   ],
   "source": [
    "new_df"
   ]
  },
  {
   "cell_type": "markdown",
   "id": "3543af6e",
   "metadata": {},
   "source": [
    "Creating the model and testing the data"
   ]
  },
  {
   "cell_type": "code",
   "execution_count": 39,
   "id": "84989efa",
   "metadata": {},
   "outputs": [],
   "source": [
    "# Applying Train-test split and breaking data "
   ]
  },
  {
   "cell_type": "code",
   "execution_count": 40,
   "id": "f511be27",
   "metadata": {},
   "outputs": [],
   "source": [
    "from sklearn.model_selection import train_test_split"
   ]
  },
  {
   "cell_type": "code",
   "execution_count": 41,
   "id": "623946dd",
   "metadata": {},
   "outputs": [
    {
     "data": {
      "text/plain": [
       "(490, 5)"
      ]
     },
     "execution_count": 41,
     "metadata": {},
     "output_type": "execute_result"
    }
   ],
   "source": [
    "X_train, X_test, y_train, y_test = train_test_split( new_df.drop(columns='y',axis=1), new_df['y'], test_size=0.3, random_state=42)\n",
    "X_train.shape"
   ]
  },
  {
   "cell_type": "code",
   "execution_count": 42,
   "id": "adeb8eee",
   "metadata": {},
   "outputs": [
    {
     "data": {
      "text/plain": [
       "(490,)"
      ]
     },
     "execution_count": 42,
     "metadata": {},
     "output_type": "execute_result"
    }
   ],
   "source": [
    "y_train.shape"
   ]
  },
  {
   "cell_type": "code",
   "execution_count": 43,
   "id": "7d6bfd33",
   "metadata": {},
   "outputs": [],
   "source": [
    "# Standradising the data"
   ]
  },
  {
   "cell_type": "code",
   "execution_count": 44,
   "id": "472d4cf8",
   "metadata": {},
   "outputs": [
    {
     "data": {
      "text/plain": [
       "StandardScaler()"
      ]
     },
     "execution_count": 44,
     "metadata": {},
     "output_type": "execute_result"
    }
   ],
   "source": [
    "from sklearn.preprocessing import StandardScaler\n",
    "scaler=StandardScaler()\n",
    "scaler.fit(X_train)"
   ]
  },
  {
   "cell_type": "code",
   "execution_count": 45,
   "id": "19f4ddb1",
   "metadata": {},
   "outputs": [],
   "source": [
    "X_train=scaler.transform(X_train)\n",
    "X_test=scaler.transform(X_test)"
   ]
  },
  {
   "cell_type": "code",
   "execution_count": 46,
   "id": "e0b16fd3",
   "metadata": {},
   "outputs": [
    {
     "data": {
      "text/plain": [
       "LogisticRegression()"
      ]
     },
     "execution_count": 46,
     "metadata": {},
     "output_type": "execute_result"
    }
   ],
   "source": [
    "# Training our model \n",
    "from sklearn.linear_model import LogisticRegression\n",
    "logmodel=LogisticRegression()\n",
    "logmodel.fit(X_train,y_train)"
   ]
  },
  {
   "cell_type": "code",
   "execution_count": 47,
   "id": "c935f22f",
   "metadata": {},
   "outputs": [
    {
     "data": {
      "text/plain": [
       "array([0., 1., 1., 1., 0., 0., 1., 0., 0., 1., 1., 0., 0., 0., 1., 1., 1.,\n",
       "       1., 1., 1., 1., 0., 1., 0., 0., 0., 1., 0., 0., 0., 1., 1., 0., 0.,\n",
       "       0., 1., 1., 1., 1., 1., 0., 1., 1., 1., 1., 1., 1., 0., 0., 0., 1.,\n",
       "       0., 1., 0., 0., 1., 1., 1., 0., 1., 1., 1., 1., 1., 1., 1., 0., 1.,\n",
       "       1., 1., 1., 0., 0., 0., 1., 0., 0., 0., 1., 0., 0., 0., 1., 1., 0.,\n",
       "       1., 0., 0., 0., 0., 1., 0., 0., 1., 0., 1., 1., 0., 0., 1., 1., 1.,\n",
       "       1., 0., 1., 1., 1., 0., 1., 0., 0., 1., 0., 0., 1., 0., 1., 1., 0.,\n",
       "       0., 0., 1., 0., 1., 1., 0., 1., 1., 1., 1., 0., 1., 0., 1., 1., 1.,\n",
       "       1., 1., 0., 0., 0., 1., 0., 0., 1., 0., 1., 0., 1., 0., 0., 0., 1.,\n",
       "       0., 0., 0., 1., 1., 0., 0., 1., 0., 1., 0., 1., 0., 0., 1., 0., 1.,\n",
       "       1., 1., 0., 0., 1., 0., 1., 1., 0., 1., 1., 1., 0., 0., 1., 1., 1.,\n",
       "       1., 0., 0., 1., 1., 1., 1., 1., 1., 1., 0., 1., 1., 0., 0., 1., 1.,\n",
       "       1., 0., 1., 1., 1., 1.])"
      ]
     },
     "execution_count": 47,
     "metadata": {},
     "output_type": "execute_result"
    }
   ],
   "source": [
    "#predicting the data\n",
    "pred=logmodel.predict(X_test)\n",
    "pred"
   ]
  },
  {
   "cell_type": "code",
   "execution_count": 48,
   "id": "9658e03d",
   "metadata": {},
   "outputs": [
    {
     "name": "stdout",
     "output_type": "stream",
     "text": [
      "              precision    recall  f1-score   support\n",
      "\n",
      "         0.0       0.90      0.70      0.79       118\n",
      "         1.0       0.70      0.90      0.79        92\n",
      "\n",
      "    accuracy                           0.79       210\n",
      "   macro avg       0.80      0.80      0.79       210\n",
      "weighted avg       0.82      0.79      0.79       210\n",
      "\n"
     ]
    }
   ],
   "source": [
    "# checking the accuracy\n",
    "from sklearn.metrics import classification_report\n",
    "print(classification_report(y_test,pred))"
   ]
  },
  {
   "cell_type": "markdown",
   "id": "96ca5ae6",
   "metadata": {},
   "source": [
    "Predicting the class using given test dataset"
   ]
  },
  {
   "cell_type": "code",
   "execution_count": 56,
   "id": "895fcfbf",
   "metadata": {},
   "outputs": [
    {
     "name": "stderr",
     "output_type": "stream",
     "text": [
      "C:\\Users\\shiva\\anaconda3\\lib\\site-packages\\sklearn\\base.py:443: UserWarning: X has feature names, but LogisticRegression was fitted without feature names\n",
      "  warnings.warn(\n"
     ]
    },
    {
     "data": {
      "text/plain": [
       "array([1., 1., 1., 1., 1., 1., 1., 1., 1., 1., 1., 1., 1., 1., 1., 1., 1.,\n",
       "       1., 1., 1., 1., 1., 1., 1., 1., 1., 1., 1., 1., 1., 1., 1., 1., 1.,\n",
       "       1., 1., 1., 1., 1., 1., 1., 1., 1., 1., 1., 1., 1., 1., 1., 1., 1.,\n",
       "       1., 1., 1., 1., 1., 1., 1., 1., 1., 1., 1., 1., 1., 1., 1., 1., 1.,\n",
       "       1., 1., 1., 1., 1., 1., 1., 1., 1., 1., 1., 1., 1., 1., 1., 1., 1.,\n",
       "       1., 1., 1., 1., 1., 1., 1., 1., 1., 1., 1., 1., 1., 1., 1., 1., 1.,\n",
       "       1., 0., 1., 1., 1., 1., 1., 1., 1., 1., 0., 1., 1., 1., 1., 1., 1.,\n",
       "       1., 1., 1., 1., 1., 1., 1., 1., 1., 1., 1., 1., 1., 1., 0., 1., 1.,\n",
       "       1., 1., 1., 1., 1., 1., 1., 1., 1., 1., 1., 1., 1., 1., 1., 1., 1.,\n",
       "       1., 1., 1., 1., 1., 1., 0., 1., 1., 1., 1., 1., 1., 1., 1., 1., 1.,\n",
       "       1., 1., 1., 1., 1., 1., 1., 1., 1., 1., 1., 1., 1., 1., 1., 1., 1.,\n",
       "       1., 1., 1., 1., 1., 1., 1., 1., 1., 1., 1., 0., 1., 1., 1., 1., 1.,\n",
       "       1., 1., 1., 1., 1., 1., 0., 1., 1., 1., 1., 1., 1., 1., 1., 1., 1.,\n",
       "       1., 1., 1., 1., 1., 1., 1., 1., 1., 1., 1., 1., 1., 1., 1., 1., 1.,\n",
       "       1., 1., 1., 1., 1., 0., 1., 1., 1., 1., 1., 1., 1., 0., 1., 1., 1.,\n",
       "       1., 1., 1., 1., 1., 1., 1., 1., 1., 1., 1., 1., 1., 1., 1., 1., 1.,\n",
       "       1., 1., 1., 1., 1., 1., 0., 1., 1., 0., 1., 1., 1., 1., 1., 1., 1.,\n",
       "       1., 1., 1., 1., 1., 1., 1., 1., 1., 1., 1.])"
      ]
     },
     "execution_count": 56,
     "metadata": {},
     "output_type": "execute_result"
    }
   ],
   "source": [
    "# Final Prediction for test\n",
    "test_pred=logmodel.predict(new_test_df)\n",
    "test_pred"
   ]
  },
  {
   "cell_type": "code",
   "execution_count": 50,
   "id": "9e84f9d5",
   "metadata": {},
   "outputs": [],
   "source": [
    "# Creating .CSV in the give submission format\n",
    "test_pred=pd.DataFrame(test_pred)\n",
    "test_data=pd.DataFrame(test_data)\n",
    "test_pred_1=pd.concat([test_data,test_pred],axis=1)"
   ]
  },
  {
   "cell_type": "code",
   "execution_count": 51,
   "id": "c35d4e85",
   "metadata": {},
   "outputs": [],
   "source": [
    "test_pred_1.columns=['filename','class']"
   ]
  },
  {
   "cell_type": "code",
   "execution_count": 52,
   "id": "606047ad",
   "metadata": {},
   "outputs": [
    {
     "data": {
      "text/html": [
       "<div>\n",
       "<style scoped>\n",
       "    .dataframe tbody tr th:only-of-type {\n",
       "        vertical-align: middle;\n",
       "    }\n",
       "\n",
       "    .dataframe tbody tr th {\n",
       "        vertical-align: top;\n",
       "    }\n",
       "\n",
       "    .dataframe thead th {\n",
       "        text-align: right;\n",
       "    }\n",
       "</style>\n",
       "<table border=\"1\" class=\"dataframe\">\n",
       "  <thead>\n",
       "    <tr style=\"text-align: right;\">\n",
       "      <th></th>\n",
       "      <th>class</th>\n",
       "    </tr>\n",
       "    <tr>\n",
       "      <th>filename</th>\n",
       "      <th></th>\n",
       "    </tr>\n",
       "  </thead>\n",
       "  <tbody>\n",
       "    <tr>\n",
       "      <th>1.jpg</th>\n",
       "      <td>1.0</td>\n",
       "    </tr>\n",
       "    <tr>\n",
       "      <th>10.jpg</th>\n",
       "      <td>1.0</td>\n",
       "    </tr>\n",
       "    <tr>\n",
       "      <th>100.jpg</th>\n",
       "      <td>1.0</td>\n",
       "    </tr>\n",
       "    <tr>\n",
       "      <th>101.jpg</th>\n",
       "      <td>1.0</td>\n",
       "    </tr>\n",
       "    <tr>\n",
       "      <th>102.jpg</th>\n",
       "      <td>1.0</td>\n",
       "    </tr>\n",
       "    <tr>\n",
       "      <th>...</th>\n",
       "      <td>...</td>\n",
       "    </tr>\n",
       "    <tr>\n",
       "      <th>95.jpg</th>\n",
       "      <td>1.0</td>\n",
       "    </tr>\n",
       "    <tr>\n",
       "      <th>96.jpg</th>\n",
       "      <td>1.0</td>\n",
       "    </tr>\n",
       "    <tr>\n",
       "      <th>97.jpg</th>\n",
       "      <td>1.0</td>\n",
       "    </tr>\n",
       "    <tr>\n",
       "      <th>98.jpg</th>\n",
       "      <td>1.0</td>\n",
       "    </tr>\n",
       "    <tr>\n",
       "      <th>99.jpg</th>\n",
       "      <td>1.0</td>\n",
       "    </tr>\n",
       "  </tbody>\n",
       "</table>\n",
       "<p>300 rows × 1 columns</p>\n",
       "</div>"
      ],
      "text/plain": [
       "          class\n",
       "filename       \n",
       "1.jpg       1.0\n",
       "10.jpg      1.0\n",
       "100.jpg     1.0\n",
       "101.jpg     1.0\n",
       "102.jpg     1.0\n",
       "...         ...\n",
       "95.jpg      1.0\n",
       "96.jpg      1.0\n",
       "97.jpg      1.0\n",
       "98.jpg      1.0\n",
       "99.jpg      1.0\n",
       "\n",
       "[300 rows x 1 columns]"
      ]
     },
     "execution_count": 52,
     "metadata": {},
     "output_type": "execute_result"
    }
   ],
   "source": [
    "test_pred_1=test_pred_1.set_index('filename')\n",
    "test_pred_1"
   ]
  },
  {
   "cell_type": "code",
   "execution_count": 53,
   "id": "9c9f4cb6",
   "metadata": {},
   "outputs": [
    {
     "data": {
      "text/html": [
       "<div>\n",
       "<style scoped>\n",
       "    .dataframe tbody tr th:only-of-type {\n",
       "        vertical-align: middle;\n",
       "    }\n",
       "\n",
       "    .dataframe tbody tr th {\n",
       "        vertical-align: top;\n",
       "    }\n",
       "\n",
       "    .dataframe thead th {\n",
       "        text-align: right;\n",
       "    }\n",
       "</style>\n",
       "<table border=\"1\" class=\"dataframe\">\n",
       "  <thead>\n",
       "    <tr style=\"text-align: right;\">\n",
       "      <th></th>\n",
       "      <th>class</th>\n",
       "    </tr>\n",
       "    <tr>\n",
       "      <th>filename</th>\n",
       "      <th></th>\n",
       "    </tr>\n",
       "  </thead>\n",
       "  <tbody>\n",
       "    <tr>\n",
       "      <th>1.jpg</th>\n",
       "      <td>Raveling</td>\n",
       "    </tr>\n",
       "    <tr>\n",
       "      <th>10.jpg</th>\n",
       "      <td>Raveling</td>\n",
       "    </tr>\n",
       "    <tr>\n",
       "      <th>100.jpg</th>\n",
       "      <td>Raveling</td>\n",
       "    </tr>\n",
       "    <tr>\n",
       "      <th>101.jpg</th>\n",
       "      <td>Raveling</td>\n",
       "    </tr>\n",
       "    <tr>\n",
       "      <th>102.jpg</th>\n",
       "      <td>Raveling</td>\n",
       "    </tr>\n",
       "    <tr>\n",
       "      <th>...</th>\n",
       "      <td>...</td>\n",
       "    </tr>\n",
       "    <tr>\n",
       "      <th>95.jpg</th>\n",
       "      <td>Raveling</td>\n",
       "    </tr>\n",
       "    <tr>\n",
       "      <th>96.jpg</th>\n",
       "      <td>Raveling</td>\n",
       "    </tr>\n",
       "    <tr>\n",
       "      <th>97.jpg</th>\n",
       "      <td>Raveling</td>\n",
       "    </tr>\n",
       "    <tr>\n",
       "      <th>98.jpg</th>\n",
       "      <td>Raveling</td>\n",
       "    </tr>\n",
       "    <tr>\n",
       "      <th>99.jpg</th>\n",
       "      <td>Raveling</td>\n",
       "    </tr>\n",
       "  </tbody>\n",
       "</table>\n",
       "<p>300 rows × 1 columns</p>\n",
       "</div>"
      ],
      "text/plain": [
       "             class\n",
       "filename          \n",
       "1.jpg     Raveling\n",
       "10.jpg    Raveling\n",
       "100.jpg   Raveling\n",
       "101.jpg   Raveling\n",
       "102.jpg   Raveling\n",
       "...            ...\n",
       "95.jpg    Raveling\n",
       "96.jpg    Raveling\n",
       "97.jpg    Raveling\n",
       "98.jpg    Raveling\n",
       "99.jpg    Raveling\n",
       "\n",
       "[300 rows x 1 columns]"
      ]
     },
     "execution_count": 53,
     "metadata": {},
     "output_type": "execute_result"
    }
   ],
   "source": [
    "test_pred_1['class']=np.where(test_pred_1['class']==1,'Raveling','Nonraveling')\n",
    "test_pred_1"
   ]
  },
  {
   "cell_type": "code",
   "execution_count": 54,
   "id": "fcbebb2b",
   "metadata": {},
   "outputs": [],
   "source": [
    "# Finally saving the csv file"
   ]
  },
  {
   "cell_type": "code",
   "execution_count": 55,
   "id": "13c086fa",
   "metadata": {},
   "outputs": [
    {
     "name": "stdout",
     "output_type": "stream",
     "text": [
      "\n",
      "CSV String:\n",
      " None\n"
     ]
    }
   ],
   "source": [
    "test_csv_data = test_pred_1.to_csv('test_pred_1.csv', index = True)\n",
    "print('\\nCSV String:\\n', test_csv_data)"
   ]
  },
  {
   "cell_type": "code",
   "execution_count": null,
   "id": "3165c203",
   "metadata": {},
   "outputs": [],
   "source": []
  }
 ],
 "metadata": {
  "kernelspec": {
   "display_name": "Python 3 (ipykernel)",
   "language": "python",
   "name": "python3"
  },
  "language_info": {
   "codemirror_mode": {
    "name": "ipython",
    "version": 3
   },
   "file_extension": ".py",
   "mimetype": "text/x-python",
   "name": "python",
   "nbconvert_exporter": "python",
   "pygments_lexer": "ipython3",
   "version": "3.9.13"
  }
 },
 "nbformat": 4,
 "nbformat_minor": 5
}
